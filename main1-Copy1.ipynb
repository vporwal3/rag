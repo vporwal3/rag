{
 "cells": [
  {
   "cell_type": "code",
   "execution_count": 78,
   "id": "382aca88-5a22-49d0-95e4-da31e3f1382d",
   "metadata": {},
   "outputs": [],
   "source": [
    "chapter_dict = {\n",
    "    '1': 'Basic Financial Calculations',\n",
    "    '2': 'Corporate Valuation Overview',\n",
    "    '3': 'Calculating the Weighted Average Cost of Capital (WACC)',\n",
    "    '4': 'Valuation Based on the Consolidated Statement of Cash Flows',\n",
    "    '5': 'Pro Forma Financial Statement Modeling',\n",
    "    '6': 'Building a Pro Forma Model: The Case of Caterpillar',\n",
    "    '7': 'Financial Analysis of Leasing',\n",
    "    '8': 'Portfolio Models—Introduction',\n",
    "    '9': 'Calculating Efficient Portfolios',\n",
    "    '10': 'Calculating the Variance-Covariance Matrix',\n",
    "    '11': 'Estimating Betas and the Security Market Line',\n",
    "    '12': 'Efficient Portfolios Without Short Sales',\n",
    "    '13': 'The Black-Litterman Approach to Portfolio Optimization',\n",
    "    '14': 'Event Studies',\n",
    "    '15': 'Introduction to Options',\n",
    "    '16': 'The Binomial Option Pricing Model',\n",
    "    '17': 'The Black-Scholes Model',\n",
    "    '18': 'Option Greeks',\n",
    "    '19': 'Real Options',\n",
    "    '20': 'Duration',\n",
    "    '21': 'Immunization Strategies',\n",
    "    '22': 'Modeling the Term Structure',\n",
    "    '23': 'Calculating Default-Adjusted Expected Bond Returns',\n",
    "    '24': 'Generating and Using Random Numbers',\n",
    "    '25': 'An Introduction to Monte Carlo Methods',\n",
    "    '26': 'Simulating Stock Prices',\n",
    "    '27': 'Monte Carlo Simulations for Investments',\n",
    "    '28': 'Value at Risk (VaR)',\n",
    "    '29': 'Simulating Options and Option Strategies',\n",
    "    '30': 'Using Monte Carlo Methods for Option Pricing',\n",
    "    '31': 'Data Tables',\n",
    "    '32': 'Matrices',\n",
    "    '33': 'Excel Functions',\n",
    "    '34': 'Array Functions',\n",
    "    '35': 'Some Excel Hints',\n",
    "    '36': 'VISUAL BASIC FOR APPLICATIONS (VBA) - User-Defined Functions with VBA',\n",
    "    '37': 'VISUAL BASIC FOR APPLICATIONS (VBA) - Variables and Arrays',\n",
    "    '38': 'VISUAL BASIC FOR APPLICATIONS (VBA) - Subroutines and User Interaction',\n",
    "    '39': 'VISUAL BASIC FOR APPLICATIONS (VBA) - Objects and Add-Ins'\n",
    "}\n"
   ]
  },
  {
   "cell_type": "code",
   "execution_count": 158,
   "id": "3d0d76fa-7801-4755-86da-66d2a032358f",
   "metadata": {
    "scrolled": true
   },
   "outputs": [
    {
     "name": "stdout",
     "output_type": "stream",
     "text": [
      "zsh:1: command not found: langchain\n"
     ]
    }
   ],
   "source": [
    "!langchain --version"
   ]
  },
  {
   "cell_type": "code",
   "execution_count": null,
   "id": "93b4e2b8-96e2-423e-b198-6adf9382bd1b",
   "metadata": {},
   "outputs": [],
   "source": []
  },
  {
   "cell_type": "markdown",
   "id": "bd9770a1-0a33-4223-a440-957f7d0d8d50",
   "metadata": {},
   "source": [
    "# Langchain"
   ]
  },
  {
   "cell_type": "code",
   "execution_count": 102,
   "id": "06329720-0f77-404d-8e30-8f34c3c54b96",
   "metadata": {
    "scrolled": true
   },
   "outputs": [
    {
     "data": {
      "text/plain": [
       "dict_keys(['1', '2', '3', '4', '5', '6', '7', '8', '9', '10', '11', '12', '13', '14', '15', '16', '17', '18', '19', '20', '21', '22', '23', '24', '25', '26', '27', '28', '29', '30', '31', '32', '33', '34', '35', '36', '37', '38', '39'])"
      ]
     },
     "execution_count": 102,
     "metadata": {},
     "output_type": "execute_result"
    }
   ],
   "source": [
    "data_dict.keys()"
   ]
  },
  {
   "cell_type": "markdown",
   "id": "bd8b4031-c9d6-4acf-9e6d-2160ea376680",
   "metadata": {},
   "source": [
    "## Creating Vector DB"
   ]
  },
  {
   "cell_type": "code",
   "execution_count": 92,
   "id": "4564645e-150a-481a-b810-479150c2a78b",
   "metadata": {
    "scrolled": true
   },
   "outputs": [
    {
     "name": "stdout",
     "output_type": "stream",
     "text": [
      "LangChain-compatible FAISS store created and saved in 'faiss_store'.\n"
     ]
    }
   ],
   "source": [
    "import json\n",
    "from langchain.embeddings import OpenAIEmbeddings\n",
    "from langchain.vectorstores import FAISS\n",
    "from langchain.docstore.document import Document\n",
    "import os\n",
    "import openai\n",
    "\n",
    "openai.api_key = \"key\"\n",
    "\n",
    "# 1. Load your data_dict\n",
    "with open(\"data_dict.json\", \"r\") as f:\n",
    "    data_dict = json.load(f)\n",
    "\n",
    "# 2. Create a list of Documents for LangChain\n",
    "# Each \"Document\" contains:\n",
    "# - page_content: the text\n",
    "# - metadata (optionally, e.g. chapter, section)\n",
    "documents = []\n",
    "\n",
    "for chapter, sections in data_dict.items():\n",
    "    for section_id, text in sections.items():\n",
    "        doc = Document(\n",
    "            page_content=text,\n",
    "            metadata={\n",
    "                \"chapter\": chapter,\n",
    "                \"section\": section_id\n",
    "            }\n",
    "        )\n",
    "        documents.append(doc)\n",
    "\n",
    "# 3. Initialize embeddings\n",
    "embedding_model = OpenAIEmbeddings(\n",
    "    model=\"text-embedding-ada-002\",\n",
    "    openai_api_key=openai.api_key\n",
    ")\n",
    "\n",
    "# 4. Build the FAISS vector store from the documents\n",
    "vectorstore = FAISS.from_documents(documents, embedding_model)\n",
    "\n",
    "# 5. Save it locally (LangChain style)\n",
    "if not os.path.exists(\"faiss_store\"):\n",
    "    os.makedirs(\"faiss_store\")\n",
    "vectorstore.save_local(\"faiss_store\")\n",
    "\n",
    "print(\"LangChain-compatible FAISS store created and saved in 'faiss_store'.\")\n"
   ]
  },
  {
   "cell_type": "markdown",
   "id": "4164402b-5ecc-4ff0-a1fd-f99876f9ffe3",
   "metadata": {},
   "source": [
    "## Testing Vector DB"
   ]
  },
  {
   "cell_type": "code",
   "execution_count": 95,
   "id": "bda7afd9-6a11-4aa6-bbae-10acd99e303b",
   "metadata": {},
   "outputs": [
    {
     "name": "stdout",
     "output_type": "stream",
     "text": [
      "== Result 1 ==\n",
      "Metadata: {'chapter': '1', 'section': '1.6'}\n",
      "Content: 1.6 Future Values and Applications\n",
      "\n",
      "We start with a triviality. Suppose you deposit 1,000 in an account today,\n",
      "leaving it there for 10 years. Suppose the account draws annual interest of\n",
      "10%. How much ...\n",
      "\n",
      "== Result 2 ==\n",
      "Metadata: {'chapter': '1', 'section': '1.7'}\n",
      "Content: 1.7 A Pension Problem—Complicating the Future Value Problem\n",
      "\n",
      "A typical exercise is the following: You are currently 55 years old and intend\n",
      "to retire at age 60. To make your retirement easier, you int ...\n",
      "\n",
      "== Result 3 ==\n",
      "Metadata: {'chapter': '1', 'section': '1.1'}\n",
      "Content: 1.1 Overview\n",
      "\n",
      "T his chapter aims to give you some fi nance basics and their Excel implementa-\n",
      "tion. If you have had a good introductory course in fi nance, this chapter is\n",
      "likely to be at best a refre ...\n",
      "\n"
     ]
    }
   ],
   "source": [
    "import openai\n",
    "from langchain.embeddings import OpenAIEmbeddings\n",
    "from langchain.vectorstores import FAISS\n",
    "\n",
    "# 1. Set your API key\n",
    "openai.api_key = \"key\"\n",
    "\n",
    "# 2. Re-initialize the same embeddings you used earlier\n",
    "embedding_model = OpenAIEmbeddings(\n",
    "    model=\"text-embedding-ada-002\",\n",
    "    openai_api_key=openai.api_key\n",
    ")\n",
    "\n",
    "# 3. Load the vector store from your saved directory\n",
    "vectorstore = FAISS.load_local(\n",
    "    folder_path=\"faiss_store\",\n",
    "    embeddings=embedding_model,\n",
    "    allow_dangerous_deserialization=True\n",
    ")\n",
    "# 4. Define a question you want to ask\n",
    "query = \"How does the deposit frequency affect the future value calculation? How can we calculate the future value with annual deposits in Excel?\"\n",
    "\n",
    "# 5. Query the vector store, asking for the top 3 matches\n",
    "results = vectorstore.similarity_search(query, k=3)\n",
    "\n",
    "# 6. Print out the matching Documents\n",
    "for i, doc in enumerate(results, start=1):\n",
    "    print(f\"== Result {i} ==\")\n",
    "    print(\"Metadata:\", doc.metadata)\n",
    "    print(\"Content:\", doc.page_content[:200], \"...\")  # Truncate for brevity\n",
    "    print()\n"
   ]
  },
  {
   "cell_type": "markdown",
   "id": "b5e5a668-3c74-43a7-ad8c-9d3b442f45e8",
   "metadata": {},
   "source": [
    "## Implmenting RAG"
   ]
  },
  {
   "cell_type": "code",
   "execution_count": 97,
   "id": "744973fb-cb34-4238-a2bf-0dd5b6483c19",
   "metadata": {},
   "outputs": [
    {
     "name": "stderr",
     "output_type": "stream",
     "text": [
      "/var/folders/mj/yn1hkgnn6hd7nwmjt1_x7qz00000gn/T/ipykernel_44700/2480704910.py:30: LangChainDeprecationWarning: The class `ChatOpenAI` was deprecated in LangChain 0.0.10 and will be removed in 1.0. An updated version of the class exists in the :class:`~langchain-openai package and should be used instead. To use it run `pip install -U :class:`~langchain-openai` and import as `from :class:`~langchain_openai import ChatOpenAI``.\n",
      "  llm = ChatOpenAI(\n"
     ]
    }
   ],
   "source": [
    "import os\n",
    "import openai\n",
    "from langchain.chains import RetrievalQA\n",
    "from langchain.chat_models import ChatOpenAI\n",
    "from langchain.vectorstores import FAISS\n",
    "from langchain.embeddings import OpenAIEmbeddings\n",
    "\n",
    "openai.api_key = \"key\"\n",
    "\n",
    "# 1. Load embeddings\n",
    "embedding_model = OpenAIEmbeddings(\n",
    "    model=\"text-embedding-ada-002\",\n",
    "    openai_api_key=openai.api_key\n",
    ")\n",
    "\n",
    "# 2. Load the LangChain-compatible FAISS store\n",
    "vectorstore = FAISS.load_local(\n",
    "    folder_path=\"faiss_store\",\n",
    "    embeddings=embedding_model,\n",
    "    allow_dangerous_deserialization=True\n",
    ")\n",
    "\n",
    "# 3. Create a retriever\n",
    "retriever = vectorstore.as_retriever(\n",
    "    search_type=\"similarity\",  # or \"similarity_score_threshold\", etc.\n",
    "    search_kwargs={\"k\": 3}     # top_k passages to retrieve\n",
    ")\n",
    "\n",
    "# 4. Create a ChatOpenAI model for generation\n",
    "llm = ChatOpenAI(\n",
    "    openai_api_key=openai.api_key,\n",
    "    temperature=0.0\n",
    ")\n",
    "\n",
    "# 5. Build the RetrievalQA chain\n",
    "rag_chain = RetrievalQA.from_chain_type(\n",
    "    llm=llm,\n",
    "    chain_type=\"stuff\",  # or \"refine\", etc.\n",
    "    retriever=retriever\n",
    ")\n",
    "\n",
    "\n"
   ]
  },
  {
   "cell_type": "code",
   "execution_count": 99,
   "id": "f6ab5688-927e-4393-957a-193c001dbbec",
   "metadata": {},
   "outputs": [
    {
     "name": "stderr",
     "output_type": "stream",
     "text": [
      "/var/folders/mj/yn1hkgnn6hd7nwmjt1_x7qz00000gn/T/ipykernel_44700/2378721939.py:3: LangChainDeprecationWarning: The method `Chain.run` was deprecated in langchain 0.1.0 and will be removed in 1.0. Use :meth:`~invoke` instead.\n",
      "  result = rag_chain.run(query)\n"
     ]
    },
    {
     "name": "stdout",
     "output_type": "stream",
     "text": [
      "User Query: How does the deposit frequency affect the future value calculation? How can we calculate the future value with annual deposits in Excel?\n",
      "RAG Answer: The deposit frequency affects the future value calculation by impacting the compounding of interest. More frequent deposits allow for more frequent compounding, which can lead to a higher future value due to the effects of compound interest.\n",
      "\n",
      "To calculate the future value with annual deposits in Excel, you can use the FV function. The FV function calculates the future value of an investment based on a constant interest rate, regular deposits, and a constant payment amount. Here is an example formula for calculating the future value with annual deposits in Excel:\n",
      "\n",
      "`=FV(rate, nper, pmt, [pv], [type])`\n",
      "\n",
      "- `rate`: The interest rate per period.\n",
      "- `nper`: The total number of payment periods.\n",
      "- `pmt`: The payment made each period; it must remain constant.\n",
      "- `[pv]`: Optional. The present value, or the total amount that a series of future payments is worth now.\n",
      "- `[type]`: Optional. Indicates whether payments are due at the beginning or end of the period (0 or 1, respectively).\n",
      "\n",
      "By using the FV function in Excel with the appropriate inputs for rate, nper, pmt, and type, you can calculate the future value of an investment with annual deposits.\n"
     ]
    }
   ],
   "source": [
    "# 6. Ask a question\n",
    "query = \"How does the deposit frequency affect the future value calculation? How can we calculate the future value with annual deposits in Excel?\"\n",
    "result = rag_chain.run(query)\n",
    "print(\"User Query:\", query)\n",
    "print(\"RAG Answer:\", result)"
   ]
  },
  {
   "cell_type": "code",
   "execution_count": null,
   "id": "8b1e5278-5246-44b5-a43b-e8c220de1712",
   "metadata": {},
   "outputs": [],
   "source": []
  },
  {
   "cell_type": "code",
   "execution_count": 130,
   "id": "39c58e0e-edc9-4da4-8de7-10a3329133ce",
   "metadata": {},
   "outputs": [],
   "source": [
    "import os\n",
    "import openai\n",
    "from langchain.chains import RetrievalQA\n",
    "from langchain.chat_models import ChatOpenAI\n",
    "from langchain.vectorstores import FAISS\n",
    "from langchain.embeddings import OpenAIEmbeddings\n",
    "from langchain.prompts import PromptTemplate\n",
    "\n",
    "openai.api_key = \"key\"\n",
    "\n",
    "# 1. Load embeddings\n",
    "embedding_model = OpenAIEmbeddings(\n",
    "    model=\"text-embedding-ada-002\",\n",
    "    openai_api_key=openai.api_key\n",
    ")\n",
    "\n",
    "# 2. Load FAISS store\n",
    "vectorstore = FAISS.load_local(\n",
    "    folder_path=\"faiss_store\",\n",
    "    embeddings=embedding_model,\n",
    "    allow_dangerous_deserialization=True\n",
    ")\n",
    "\n",
    "# 3. Create a retriever\n",
    "retriever = vectorstore.as_retriever(search_type=\"similarity\", search_kwargs={\"k\": 3})\n",
    "\n",
    "# 4. Create LLM\n",
    "llm = ChatOpenAI(\n",
    "    model_name=\"gpt-4\",   # gpt-4\n",
    "    openai_api_key=openai.api_key,\n",
    "    temperature=0.1\n",
    ")\n",
    "# 5. Build a custom prompt template\n",
    "#    Note: For \"stuff\"-type QA, your template should include `{context}` and `{question}` placeholders\n",
    "template_text = \"\"\"\n",
    "\n",
    "You are a helpful answer generation assistant who can take in a question and generate a comprehensive and detailed answer based on the question provided.\n",
    "\n",
    "You will be given the question along with context that is extracted from the book \"FINANCIAL MODELING\" from Simon Benninga. These contexts \n",
    "are basically 3 sections from any chapter within the group that may help answering the question better\n",
    "\n",
    "Important thing to note: The context is just given for reference. You have to generate a comprehensive answer based on your own knowledge.\n",
    "\n",
    "Below you can find the details:\n",
    "\n",
    "Question - {question}\n",
    "\n",
    "Context:\n",
    "{context}\n",
    "\n",
    "Important things to note:\n",
    "The context is just given for reference. You have to generate a detailed answer based on your own knowledge. \n",
    "Where-ever applicable keep a good balance between theoretical (formulas, definitions) and practical examples. You can also give examples on how you can do it in excel where-ever necessary.\n",
    "\"\"\"\n",
    "\n",
    "prompt = PromptTemplate(\n",
    "    template=template_text,\n",
    "    input_variables=[\"context\", \"question\"]\n",
    ")\n",
    "\n",
    "# 6. Create the RetrievalQA chain, passing in our custom prompt\n",
    "rag_chain = RetrievalQA.from_chain_type(\n",
    "    llm=llm,\n",
    "    chain_type=\"stuff\",  \n",
    "    retriever=retriever,\n",
    "    chain_type_kwargs={\"prompt\": prompt}\n",
    ")\n",
    "\n"
   ]
  },
  {
   "cell_type": "code",
   "execution_count": 132,
   "id": "a0fc986b-5f67-42d4-a93a-436870ca198b",
   "metadata": {},
   "outputs": [
    {
     "name": "stdout",
     "output_type": "stream",
     "text": [
      "The deposit frequency can significantly affect the future value calculation. When deposits are made more frequently, such as annually, the future value of the investment will be higher due to the compounding effect. In the context provided, we see how annual deposits of $1,000 each year for 10 years at an interest rate of 10% result in a future value of $17,531.17. This is calculated by considering the initial deposit, subsequent annual deposits, and the interest earned on the account.\n",
      "\n",
      "To calculate the future value with annual deposits in Excel, you can use the FV function. The formula for calculating the future value with annual deposits in Excel is:\n",
      "\n",
      "=FV(rate, nper, pmt, [pv], [type])\n",
      "\n",
      "- rate: The interest rate per period.\n",
      "- nper: The total number of payment periods.\n",
      "- pmt: The payment made each period; it should be a negative number.\n",
      "- pv: (Optional) The present value, or the total amount that a series of future payments is worth now.\n",
      "- type: (Optional) When payments are due, either at the beginning (1) or end (0) of the period.\n",
      "\n",
      "For example, if you have an annual deposit of $1,000, an interest rate of 10%, and plan to make deposits for 10 years, you can use the FV function in Excel to calculate the future value of the investment.\n",
      "\n",
      "=FV(10%, 10, -1000, 0, 1)\n",
      "\n",
      "This formula will give you the future value of the investment after 10 years with annual deposits of $1,000 each year. Excel's FV function simplifies the calculation process and allows you to easily determine the future value of an investment with regular deposits.\n"
     ]
    }
   ],
   "source": [
    "# 7. Ask your question\n",
    "query = \"How does the deposit frequency affect the future value calculation? How can we calculate the future value with annual deposits in Excel?\"\n",
    "\n",
    "response = rag_chain.run(query)\n",
    "print(response)\n"
   ]
  }
 ],
 "metadata": {
  "kernelspec": {
   "display_name": "Python 3 (ipykernel)",
   "language": "python",
   "name": "python3"
  },
  "language_info": {
   "codemirror_mode": {
    "name": "ipython",
    "version": 3
   },
   "file_extension": ".py",
   "mimetype": "text/x-python",
   "name": "python",
   "nbconvert_exporter": "python",
   "pygments_lexer": "ipython3",
   "version": "3.12.2"
  }
 },
 "nbformat": 4,
 "nbformat_minor": 5
}
